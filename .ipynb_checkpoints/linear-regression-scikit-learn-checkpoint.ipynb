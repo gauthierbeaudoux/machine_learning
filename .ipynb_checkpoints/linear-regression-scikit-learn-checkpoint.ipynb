{
 "cells": [
  {
   "cell_type": "code",
   "execution_count": 158,
   "id": "b1d4dc51",
   "metadata": {
    "execution": {
     "iopub.execute_input": "2022-12-10T22:54:12.304539Z",
     "iopub.status.busy": "2022-12-10T22:54:12.304052Z",
     "iopub.status.idle": "2022-12-10T22:54:13.569310Z",
     "shell.execute_reply": "2022-12-10T22:54:13.568391Z",
     "shell.execute_reply.started": "2022-12-10T22:54:12.304435Z"
    }
   },
   "outputs": [],
   "source": [
    "import pandas as pd\n",
    "import numpy as np\n",
    "from sklearn.preprocessing import StandardScaler\n",
    "from sklearn.linear_model import SGDRegressor\n",
    "import matplotlib.pyplot as plt"
   ]
  },
  {
   "cell_type": "code",
   "execution_count": 159,
   "id": "23a6270c",
   "metadata": {
    "execution": {
     "iopub.execute_input": "2022-12-10T22:54:38.333550Z",
     "iopub.status.busy": "2022-12-10T22:54:38.333133Z",
     "iopub.status.idle": "2022-12-10T22:54:38.382407Z",
     "shell.execute_reply": "2022-12-10T22:54:38.381238Z",
     "shell.execute_reply.started": "2022-12-10T22:54:38.333516Z"
    }
   },
   "outputs": [
    {
     "data": {
      "text/html": [
       "<div>\n",
       "<style scoped>\n",
       "    .dataframe tbody tr th:only-of-type {\n",
       "        vertical-align: middle;\n",
       "    }\n",
       "\n",
       "    .dataframe tbody tr th {\n",
       "        vertical-align: top;\n",
       "    }\n",
       "\n",
       "    .dataframe thead th {\n",
       "        text-align: right;\n",
       "    }\n",
       "</style>\n",
       "<table border=\"1\" class=\"dataframe\">\n",
       "  <thead>\n",
       "    <tr style=\"text-align: right;\">\n",
       "      <th></th>\n",
       "      <th>CRIM</th>\n",
       "      <th>ZN</th>\n",
       "      <th>INDUS</th>\n",
       "      <th>CHAS</th>\n",
       "      <th>NOX</th>\n",
       "      <th>RM</th>\n",
       "      <th>AGE</th>\n",
       "      <th>DIS</th>\n",
       "      <th>RAD</th>\n",
       "      <th>TAX</th>\n",
       "      <th>PTRATIO</th>\n",
       "      <th>B</th>\n",
       "      <th>LSTAT</th>\n",
       "      <th>MEDV</th>\n",
       "    </tr>\n",
       "  </thead>\n",
       "  <tbody>\n",
       "    <tr>\n",
       "      <th>0</th>\n",
       "      <td>0.00632</td>\n",
       "      <td>18.0</td>\n",
       "      <td>2.31</td>\n",
       "      <td>0</td>\n",
       "      <td>0.538</td>\n",
       "      <td>6.575</td>\n",
       "      <td>65.2</td>\n",
       "      <td>4.0900</td>\n",
       "      <td>1</td>\n",
       "      <td>296.0</td>\n",
       "      <td>15.3</td>\n",
       "      <td>396.90</td>\n",
       "      <td>4.98</td>\n",
       "      <td>24.0</td>\n",
       "    </tr>\n",
       "    <tr>\n",
       "      <th>1</th>\n",
       "      <td>0.02731</td>\n",
       "      <td>0.0</td>\n",
       "      <td>7.07</td>\n",
       "      <td>0</td>\n",
       "      <td>0.469</td>\n",
       "      <td>6.421</td>\n",
       "      <td>78.9</td>\n",
       "      <td>4.9671</td>\n",
       "      <td>2</td>\n",
       "      <td>242.0</td>\n",
       "      <td>17.8</td>\n",
       "      <td>396.90</td>\n",
       "      <td>9.14</td>\n",
       "      <td>21.6</td>\n",
       "    </tr>\n",
       "    <tr>\n",
       "      <th>2</th>\n",
       "      <td>0.02729</td>\n",
       "      <td>0.0</td>\n",
       "      <td>7.07</td>\n",
       "      <td>0</td>\n",
       "      <td>0.469</td>\n",
       "      <td>7.185</td>\n",
       "      <td>61.1</td>\n",
       "      <td>4.9671</td>\n",
       "      <td>2</td>\n",
       "      <td>242.0</td>\n",
       "      <td>17.8</td>\n",
       "      <td>392.83</td>\n",
       "      <td>4.03</td>\n",
       "      <td>34.7</td>\n",
       "    </tr>\n",
       "    <tr>\n",
       "      <th>3</th>\n",
       "      <td>0.03237</td>\n",
       "      <td>0.0</td>\n",
       "      <td>2.18</td>\n",
       "      <td>0</td>\n",
       "      <td>0.458</td>\n",
       "      <td>6.998</td>\n",
       "      <td>45.8</td>\n",
       "      <td>6.0622</td>\n",
       "      <td>3</td>\n",
       "      <td>222.0</td>\n",
       "      <td>18.7</td>\n",
       "      <td>394.63</td>\n",
       "      <td>2.94</td>\n",
       "      <td>33.4</td>\n",
       "    </tr>\n",
       "    <tr>\n",
       "      <th>4</th>\n",
       "      <td>0.06905</td>\n",
       "      <td>0.0</td>\n",
       "      <td>2.18</td>\n",
       "      <td>0</td>\n",
       "      <td>0.458</td>\n",
       "      <td>7.147</td>\n",
       "      <td>54.2</td>\n",
       "      <td>6.0622</td>\n",
       "      <td>3</td>\n",
       "      <td>222.0</td>\n",
       "      <td>18.7</td>\n",
       "      <td>396.90</td>\n",
       "      <td>5.33</td>\n",
       "      <td>36.2</td>\n",
       "    </tr>\n",
       "  </tbody>\n",
       "</table>\n",
       "</div>"
      ],
      "text/plain": [
       "      CRIM    ZN  INDUS  CHAS    NOX     RM   AGE     DIS  RAD    TAX  \\\n",
       "0  0.00632  18.0   2.31     0  0.538  6.575  65.2  4.0900    1  296.0   \n",
       "1  0.02731   0.0   7.07     0  0.469  6.421  78.9  4.9671    2  242.0   \n",
       "2  0.02729   0.0   7.07     0  0.469  7.185  61.1  4.9671    2  242.0   \n",
       "3  0.03237   0.0   2.18     0  0.458  6.998  45.8  6.0622    3  222.0   \n",
       "4  0.06905   0.0   2.18     0  0.458  7.147  54.2  6.0622    3  222.0   \n",
       "\n",
       "   PTRATIO       B  LSTAT  MEDV  \n",
       "0     15.3  396.90   4.98  24.0  \n",
       "1     17.8  396.90   9.14  21.6  \n",
       "2     17.8  392.83   4.03  34.7  \n",
       "3     18.7  394.63   2.94  33.4  \n",
       "4     18.7  396.90   5.33  36.2  "
      ]
     },
     "execution_count": 159,
     "metadata": {},
     "output_type": "execute_result"
    }
   ],
   "source": [
    "df_boston = pd.read_csv(\"boston.csv\")\n",
    "df_boston.head()"
   ]
  },
  {
   "cell_type": "code",
   "execution_count": 160,
   "id": "f03f9bc2",
   "metadata": {},
   "outputs": [],
   "source": [
    "df_boston = df_boston.drop(columns=[\"CHAS\"])"
   ]
  },
  {
   "cell_type": "code",
   "execution_count": 161,
   "id": "6e33d6b2",
   "metadata": {},
   "outputs": [],
   "source": [
    "X_train = df_boston.drop(columns=[\"MEDV\"])[:5].to_numpy()\n",
    "y_train = df_boston[\"MEDV\"][:5].to_numpy()"
   ]
  },
  {
   "cell_type": "code",
   "execution_count": 162,
   "id": "522cb3ce",
   "metadata": {},
   "outputs": [
    {
     "name": "stdout",
     "output_type": "stream",
     "text": [
      "ptp X_train: [6.2730e-02 1.8000e+01 4.8900e+00 8.0000e-02 7.6400e-01 3.3100e+01\n",
      " 1.9722e+00 2.0000e+00 7.4000e+01 3.4000e+00 4.0700e+00 6.2000e+00]\n",
      "\n",
      "ptp X_norm: [3.07900757 2.5        2.05908043 2.64871622 2.46362211 2.98372124\n",
      " 2.62473017 2.67261242 2.72886291 2.72707777 2.46069234 2.95371277]\n"
     ]
    }
   ],
   "source": [
    "scaler = StandardScaler()\n",
    "X_norm = scaler.fit_transform(X_train)\n",
    "print(f\"ptp X_train: {np.ptp(X_train, axis=0)}\\n\")\n",
    "print(f\"ptp X_norm: {np.ptp(X_norm, axis=0)}\")"
   ]
  },
  {
   "cell_type": "code",
   "execution_count": 163,
   "id": "689ad4e1",
   "metadata": {},
   "outputs": [
    {
     "data": {
      "text/plain": [
       "481"
      ]
     },
     "execution_count": 163,
     "metadata": {},
     "output_type": "execute_result"
    }
   ],
   "source": [
    "model = SGDRegressor()\n",
    "model.fit(X_norm, y_train)\n",
    "model.n_iter_"
   ]
  },
  {
   "cell_type": "code",
   "execution_count": 164,
   "id": "8013ad52",
   "metadata": {},
   "outputs": [
    {
     "name": "stdout",
     "output_type": "stream",
     "text": [
      "Coeff a: [ 1.90498653e+00 -1.65904067e-02 -6.40498121e-04 -1.76263470e-02\n",
      "  2.79658173e+00 -6.99563900e-01  1.76143629e-02  1.79158094e-02\n",
      " -1.82084784e-02  1.81945239e-02 -8.41139624e-01 -1.06079405e+00]\n",
      "\n",
      "Coeff b: [29.68995402]\n"
     ]
    }
   ],
   "source": [
    "a_norm = model.coef_\n",
    "b_norm = model.intercept_\n",
    "print(f\"Coeff a: {a_norm}\\n\")\n",
    "print(f\"Coeff b: {b_norm}\")"
   ]
  },
  {
   "cell_type": "code",
   "execution_count": 165,
   "id": "5f52ed0b",
   "metadata": {},
   "outputs": [
    {
     "name": "stdout",
     "output_type": "stream",
     "text": [
      "Real values: [24.  21.6 34.7 33.4 36.2]\n",
      "Predicted values: [23.6827483  21.48806423 34.15060799 33.62345418 35.50489539]\n"
     ]
    }
   ],
   "source": [
    "y_predicted = model.predict(X_norm)\n",
    "print(f\"Real values: {y_train}\")\n",
    "print(f\"Predicted values: {y_predicted}\")"
   ]
  },
  {
   "cell_type": "markdown",
   "id": "9f8e9378",
   "metadata": {},
   "source": [
    "## Let's try to fit a cosinus"
   ]
  },
  {
   "cell_type": "code",
   "execution_count": 181,
   "id": "a5bd3caa",
   "metadata": {},
   "outputs": [],
   "source": [
    "x_cos = np.linspace(0, 5, 1000)\n",
    "y_cos = np.cos(x_cos)\n",
    "X_train = np.c_[x_cos, x_cos**2, x_cos**3, x_cos**4, x_cos**5, x_cos**6, x_cos**7, x_cos**8, x_cos**9, x_cos**10, x_cos**11, x_cos**12, x_cos**13]\n",
    "scaler_cos = StandardScaler()\n",
    "X_norm = scaler_cos.fit_transform(X_train)"
   ]
  },
  {
   "cell_type": "code",
   "execution_count": 182,
   "id": "745d1303",
   "metadata": {},
   "outputs": [
    {
     "data": {
      "text/plain": [
       "52"
      ]
     },
     "execution_count": 182,
     "metadata": {},
     "output_type": "execute_result"
    }
   ],
   "source": [
    "model = SGDRegressor(tol=1e-5)\n",
    "model.fit(X_norm, y_cos)\n",
    "model.n_iter_"
   ]
  },
  {
   "cell_type": "code",
   "execution_count": 183,
   "id": "c111636b",
   "metadata": {},
   "outputs": [
    {
     "data": {
      "text/plain": [
       "array([-1.07088982, -0.33157678,  0.11426947,  0.31189826,  0.36021101,\n",
       "        0.32797476,  0.25601914,  0.16736328,  0.07459997, -0.01562352,\n",
       "       -0.10001637, -0.17716648, -0.24669784])"
      ]
     },
     "execution_count": 183,
     "metadata": {},
     "output_type": "execute_result"
    }
   ],
   "source": [
    "model.coef_"
   ]
  },
  {
   "cell_type": "code",
   "execution_count": 184,
   "id": "afe53966",
   "metadata": {},
   "outputs": [],
   "source": [
    "y_predicted = model.predict(X_norm)"
   ]
  },
  {
   "cell_type": "code",
   "execution_count": 185,
   "id": "b0f60bb5",
   "metadata": {},
   "outputs": [
    {
     "data": {
      "text/plain": [
       "[<matplotlib.lines.Line2D at 0x22add6fda90>]"
      ]
     },
     "execution_count": 185,
     "metadata": {},
     "output_type": "execute_result"
    },
    {
     "data": {
      "image/png": "[encoded data removed]",
      "text/plain": [
       "<Figure size 640x480 with 1 Axes>"
      ]
     },
     "metadata": {},
     "output_type": "display_data"
    }
   ],
   "source": [
    "plt.plot(x_cos, y_cos)\n",
    "plt.plot(x_cos, y_predicted)"
   ]
  },
  {
   "cell_type": "markdown",
   "id": "d7abd3ec",
   "metadata": {},
   "source": [
    "Let's see what would be the best fit with this order (13)"
   ]
  },
  {
   "cell_type": "code",
   "execution_count": 186,
   "id": "de718b1d",
   "metadata": {},
   "outputs": [],
   "source": [
    "def array_coeff_cos(order: int):\n",
    "    list_coeff = []\n",
    "    i = 1\n",
    "    while len(list_coeff) < order:\n",
    "        list_coeff.append(0)\n",
    "        if len(list_coeff) < order:\n",
    "            list_coeff.append((-1)**i/np.math.factorial(2*i))\n",
    "        i += 1\n",
    "    return np.array(list_coeff)"
   ]
  },
  {
   "cell_type": "code",
   "execution_count": 187,
   "id": "8bd745e6",
   "metadata": {},
   "outputs": [
    {
     "data": {
      "text/plain": [
       "array([ 0.00000000e+00, -5.00000000e-01,  0.00000000e+00,  4.16666667e-02,\n",
       "        0.00000000e+00, -1.38888889e-03,  0.00000000e+00,  2.48015873e-05,\n",
       "        0.00000000e+00, -2.75573192e-07,  0.00000000e+00,  2.08767570e-09,\n",
       "        0.00000000e+00])"
      ]
     },
     "execution_count": 187,
     "metadata": {},
     "output_type": "execute_result"
    }
   ],
   "source": [
    "coeff = array_coeff_cos(13)\n",
    "coeff"
   ]
  },
  {
   "cell_type": "code",
   "execution_count": 188,
   "id": "390ab8d3",
   "metadata": {},
   "outputs": [
    {
     "data": {
      "text/plain": [
       "array([ 1.00000000e+00,  9.99987475e-01,  9.99949900e-01,  9.99887277e-01,\n",
       "        9.99799606e-01,  9.99686890e-01,  9.99549133e-01,  9.99386336e-01,\n",
       "        9.99198505e-01,  9.98985643e-01,  9.98747758e-01,  9.98484853e-01,\n",
       "        9.98196937e-01,  9.97884015e-01,  9.97546097e-01,  9.97183190e-01,\n",
       "        9.96795304e-01,  9.96382447e-01,  9.95944632e-01,  9.95481868e-01,\n",
       "        9.94994167e-01,  9.94481541e-01,  9.93944004e-01,  9.93381569e-01,\n",
       "        9.92794249e-01,  9.92182060e-01,  9.91545016e-01,  9.90883134e-01,\n",
       "        9.90196431e-01,  9.89484923e-01,  9.88748629e-01,  9.87987566e-01,\n",
       "        9.87201754e-01,  9.86391213e-01,  9.85555963e-01,  9.84696024e-01,\n",
       "        9.83811419e-01,  9.82902170e-01,  9.81968298e-01,  9.81009829e-01,\n",
       "        9.80026785e-01,  9.79019191e-01,  9.77987073e-01,  9.76930456e-01,\n",
       "        9.75849367e-01,  9.74743833e-01,  9.73613882e-01,  9.72459542e-01,\n",
       "        9.71280841e-01,  9.70077810e-01,  9.68850478e-01,  9.67598877e-01,\n",
       "        9.66323038e-01,  9.65022991e-01,  9.63698772e-01,  9.62350411e-01,\n",
       "        9.60977944e-01,  9.59581404e-01,  9.58160826e-01,  9.56716246e-01,\n",
       "        9.55247701e-01,  9.53755227e-01,  9.52238861e-01,  9.50698642e-01,\n",
       "        9.49134607e-01,  9.47546797e-01,  9.45935251e-01,  9.44300009e-01,\n",
       "        9.42641112e-01,  9.40958602e-01,  9.39252521e-01,  9.37522912e-01,\n",
       "        9.35769817e-01,  9.33993282e-01,  9.32193350e-01,  9.30370067e-01,\n",
       "        9.28523478e-01,  9.26653629e-01,  9.24760567e-01,  9.22844341e-01,\n",
       "        9.20904997e-01,  9.18942584e-01,  9.16957152e-01,  9.14948750e-01,\n",
       "        9.12917429e-01,  9.10863239e-01,  9.08786232e-01,  9.06686459e-01,\n",
       "        9.04563975e-01,  9.02418830e-01,  9.00251081e-01,  8.98060780e-01,\n",
       "        8.95847982e-01,  8.93612743e-01,  8.91355120e-01,  8.89075168e-01,\n",
       "        8.86772945e-01,  8.84448507e-01,  8.82101915e-01,  8.79733226e-01,\n",
       "        8.77342499e-01,  8.74929795e-01,  8.72495174e-01,  8.70038697e-01,\n",
       "        8.67560426e-01,  8.65060422e-01,  8.62538748e-01,  8.59995468e-01,\n",
       "        8.57430645e-01,  8.54844343e-01,  8.52236627e-01,  8.49607563e-01,\n",
       "        8.46957216e-01,  8.44285653e-01,  8.41592940e-01,  8.38879145e-01,\n",
       "        8.36144337e-01,  8.33388583e-01,  8.30611953e-01,  8.27814515e-01,\n",
       "        8.24996341e-01,  8.22157501e-01,  8.19298066e-01,  8.16418107e-01,\n",
       "        8.13517698e-01,  8.10596909e-01,  8.07655815e-01,  8.04694489e-01,\n",
       "        8.01713006e-01,  7.98711439e-01,  7.95689865e-01,  7.92648359e-01,\n",
       "        7.89586997e-01,  7.86505856e-01,  7.83405013e-01,  7.80284545e-01,\n",
       "        7.77144531e-01,  7.73985050e-01,  7.70806181e-01,  7.67608003e-01,\n",
       "        7.64390596e-01,  7.61154041e-01,  7.57898419e-01,  7.54623812e-01,\n",
       "        7.51330302e-01,  7.48017970e-01,  7.44686901e-01,  7.41337178e-01,\n",
       "        7.37968884e-01,  7.34582103e-01,  7.31176922e-01,  7.27753424e-01,\n",
       "        7.24311697e-01,  7.20851825e-01,  7.17373896e-01,  7.13877996e-01,\n",
       "        7.10364214e-01,  7.06832638e-01,  7.03283355e-01,  6.99716455e-01,\n",
       "        6.96132027e-01,  6.92530161e-01,  6.88910947e-01,  6.85274475e-01,\n",
       "        6.81620838e-01,  6.77950126e-01,  6.74262431e-01,  6.70557846e-01,\n",
       "        6.66836464e-01,  6.63098377e-01,  6.59343679e-01,  6.55572466e-01,\n",
       "        6.51784829e-01,  6.47980866e-01,  6.44160671e-01,  6.40324340e-01,\n",
       "        6.36471968e-01,  6.32603653e-01,  6.28719491e-01,  6.24819579e-01,\n",
       "        6.20904016e-01,  6.16972899e-01,  6.13026327e-01,  6.09064399e-01,\n",
       "        6.05087214e-01,  6.01094871e-01,  5.97087471e-01,  5.93065113e-01,\n",
       "        5.89027900e-01,  5.84975931e-01,  5.80909308e-01,  5.76828134e-01,\n",
       "        5.72732510e-01,  5.68622540e-01,  5.64498325e-01,  5.60359969e-01,\n",
       "        5.56207577e-01,  5.52041251e-01,  5.47861097e-01,  5.43667219e-01,\n",
       "        5.39459722e-01,  5.35238712e-01,  5.31004293e-01,  5.26756574e-01,\n",
       "        5.22495658e-01,  5.18221655e-01,  5.13934670e-01,  5.09634810e-01,\n",
       "        5.05322185e-01,  5.00996901e-01,  4.96659067e-01,  4.92308792e-01,\n",
       "        4.87946184e-01,  4.83571354e-01,  4.79184410e-01,  4.74785462e-01,\n",
       "        4.70374621e-01,  4.65951997e-01,  4.61517701e-01,  4.57071844e-01,\n",
       "        4.52614537e-01,  4.48145893e-01,  4.43666022e-01,  4.39175037e-01,\n",
       "        4.34673051e-01,  4.30160177e-01,  4.25636526e-01,  4.21102214e-01,\n",
       "        4.16557353e-01,  4.12002058e-01,  4.07436441e-01,  4.02860619e-01,\n",
       "        3.98274704e-01,  3.93678813e-01,  3.89073061e-01,  3.84457561e-01,\n",
       "        3.79832432e-01,  3.75197787e-01,  3.70553744e-01,  3.65900418e-01,\n",
       "        3.61237927e-01,  3.56566387e-01,  3.51885914e-01,  3.47196627e-01,\n",
       "        3.42498642e-01,  3.37792078e-01,  3.33077053e-01,  3.28353683e-01,\n",
       "        3.23622089e-01,  3.18882387e-01,  3.14134698e-01,  3.09379139e-01,\n",
       "        3.04615831e-01,  2.99844892e-01,  2.95066442e-01,  2.90280600e-01,\n",
       "        2.85487487e-01,  2.80687223e-01,  2.75879927e-01,  2.71065720e-01,\n",
       "        2.66244723e-01,  2.61417057e-01,  2.56582842e-01,  2.51742200e-01,\n",
       "        2.46895252e-01,  2.42042119e-01,  2.37182923e-01,  2.32317785e-01,\n",
       "        2.27446828e-01,  2.22570173e-01,  2.17687943e-01,  2.12800260e-01,\n",
       "        2.07907246e-01,  2.03009024e-01,  1.98105717e-01,  1.93197447e-01,\n",
       "        1.88284338e-01,  1.83366512e-01,  1.78444092e-01,  1.73517203e-01,\n",
       "        1.68585967e-01,  1.63650508e-01,  1.58710950e-01,  1.53767415e-01,\n",
       "        1.48820029e-01,  1.43868915e-01,  1.38914197e-01,  1.33956000e-01,\n",
       "        1.28994446e-01,  1.24029662e-01,  1.19061770e-01,  1.14090896e-01,\n",
       "        1.09117164e-01,  1.04140699e-01,  9.91616247e-02,  9.41800666e-02,\n",
       "        8.91961493e-02,  8.42099976e-02,  7.92217364e-02,  7.42314908e-02,\n",
       "        6.92393856e-02,  6.42455461e-02,  5.92500971e-02,  5.42531640e-02,\n",
       "        4.92548718e-02,  4.42553458e-02,  3.92547112e-02,  3.42530933e-02,\n",
       "        2.92506174e-02,  2.42474087e-02,  1.92435927e-02,  1.42392946e-02,\n",
       "        9.23463980e-03,  4.22975370e-03, -7.75238334e-04, -5.78021094e-03,\n",
       "       -1.07850387e-02, -1.57895964e-02, -2.07937584e-02, -2.57973996e-02,\n",
       "       -3.08003946e-02, -3.58026179e-02, -4.08039444e-02, -4.58042488e-02,\n",
       "       -5.08034057e-02, -5.58012900e-02, -6.07977764e-02, -6.57927399e-02,\n",
       "       -7.07860552e-02, -7.57775973e-02, -8.07672412e-02, -8.57548618e-02,\n",
       "       -9.07403342e-02, -9.57235335e-02, -1.00704335e-01, -1.05682614e-01,\n",
       "       -1.10658245e-01, -1.15631105e-01, -1.20601067e-01, -1.25568009e-01,\n",
       "       -1.30531805e-01, -1.35492332e-01, -1.40449464e-01, -1.45403078e-01,\n",
       "       -1.50353049e-01, -1.55299254e-01, -1.60241569e-01, -1.65179870e-01,\n",
       "       -1.70114033e-01, -1.75043935e-01, -1.79969451e-01, -1.84890460e-01,\n",
       "       -1.89806837e-01, -1.94718459e-01, -1.99625203e-01, -2.04526947e-01,\n",
       "       -2.09423567e-01, -2.14314941e-01, -2.19200947e-01, -2.24081461e-01,\n",
       "       -2.28956362e-01, -2.33825528e-01, -2.38688836e-01, -2.43546165e-01,\n",
       "       -2.48397394e-01, -2.53242399e-01, -2.58081061e-01, -2.62913258e-01,\n",
       "       -2.67738869e-01, -2.72557773e-01, -2.77369849e-01, -2.82174978e-01,\n",
       "       -2.86973037e-01, -2.91763908e-01, -2.96547470e-01, -3.01323603e-01,\n",
       "       -3.06092188e-01, -3.10853105e-01, -3.15606236e-01, -3.20351460e-01,\n",
       "       -3.25088659e-01, -3.29817715e-01, -3.34538509e-01, -3.39250922e-01,\n",
       "       -3.43954837e-01, -3.48650136e-01, -3.53336701e-01, -3.58014415e-01,\n",
       "       -3.62683160e-01, -3.67342820e-01, -3.71993278e-01, -3.76634417e-01,\n",
       "       -3.81266122e-01, -3.85888275e-01, -3.90500762e-01, -3.95103467e-01,\n",
       "       -3.99696274e-01, -4.04279068e-01, -4.08851735e-01, -4.13414160e-01,\n",
       "       -4.17966229e-01, -4.22507828e-01, -4.27038842e-01, -4.31559159e-01,\n",
       "       -4.36068665e-01, -4.40567248e-01, -4.45054794e-01, -4.49531191e-01,\n",
       "       -4.53996327e-01, -4.58450090e-01, -4.62892368e-01, -4.67323051e-01,\n",
       "       -4.71742027e-01, -4.76149186e-01, -4.80544417e-01, -4.84927610e-01,\n",
       "       -4.89298655e-01, -4.93657443e-01, -4.98003864e-01, -5.02337810e-01,\n",
       "       -5.06659172e-01, -5.10967841e-01, -5.15263711e-01, -5.19546673e-01,\n",
       "       -5.23816619e-01, -5.28073444e-01, -5.32317040e-01, -5.36547301e-01,\n",
       "       -5.40764121e-01, -5.44967394e-01, -5.49157015e-01, -5.53332880e-01,\n",
       "       -5.57494883e-01, -5.61642920e-01, -5.65776887e-01, -5.69896681e-01,\n",
       "       -5.74002199e-01, -5.78093337e-01, -5.82169993e-01, -5.86232066e-01,\n",
       "       -5.90279452e-01, -5.94312051e-01, -5.98329762e-01, -6.02332485e-01,\n",
       "       -6.06320117e-01, -6.10292561e-01, -6.14249717e-01, -6.18191484e-01,\n",
       "       -6.22117765e-01, -6.26028461e-01, -6.29923474e-01, -6.33802707e-01,\n",
       "       -6.37666062e-01, -6.41513443e-01, -6.45344752e-01, -6.49159895e-01,\n",
       "       -6.52958775e-01, -6.56741298e-01, -6.60507368e-01, -6.64256891e-01,\n",
       "       -6.67989773e-01, -6.71705922e-01, -6.75405242e-01, -6.79087643e-01,\n",
       "       -6.82753031e-01, -6.86401315e-01, -6.90032403e-01, -6.93646205e-01,\n",
       "       -6.97242629e-01, -7.00821586e-01, -7.04382986e-01, -7.07926739e-01,\n",
       "       -7.11452758e-01, -7.14960953e-01, -7.18451236e-01, -7.21923521e-01,\n",
       "       -7.25377720e-01, -7.28813746e-01, -7.32231514e-01, -7.35630937e-01,\n",
       "       -7.39011931e-01, -7.42374411e-01, -7.45718292e-01, -7.49043491e-01,\n",
       "       -7.52349925e-01, -7.55637509e-01, -7.58906163e-01, -7.62155804e-01,\n",
       "       -7.65386351e-01, -7.68597723e-01, -7.71789838e-01, -7.74962618e-01,\n",
       "       -7.78115982e-01, -7.81249852e-01, -7.84364149e-01, -7.87458795e-01,\n",
       "       -7.90533713e-01, -7.93588824e-01, -7.96624053e-01, -7.99639324e-01,\n",
       "       -8.02634561e-01, -8.05609688e-01, -8.08564632e-01, -8.11499318e-01,\n",
       "       -8.14413672e-01, -8.17307622e-01, -8.20181095e-01, -8.23034018e-01,\n",
       "       -8.25866321e-01, -8.28677932e-01, -8.31468781e-01, -8.34238797e-01,\n",
       "       -8.36987912e-01, -8.39716055e-01, -8.42423160e-01, -8.45109157e-01,\n",
       "       -8.47773980e-01, -8.50417562e-01, -8.53039836e-01, -8.55640736e-01,\n",
       "       -8.58220198e-01, -8.60778156e-01, -8.63314547e-01, -8.65829306e-01,\n",
       "       -8.68322371e-01, -8.70793678e-01, -8.73243167e-01, -8.75670775e-01,\n",
       "       -8.78076442e-01, -8.80460106e-01, -8.82821709e-01, -8.85161191e-01,\n",
       "       -8.87478493e-01, -8.89773557e-01, -8.92046325e-01, -8.94296741e-01,\n",
       "       -8.96524747e-01, -8.98730289e-01, -9.00913309e-01, -9.03073754e-01,\n",
       "       -9.05211570e-01, -9.07326701e-01, -9.09419096e-01, -9.11488702e-01,\n",
       "       -9.13535467e-01, -9.15559338e-01, -9.17560266e-01, -9.19538200e-01,\n",
       "       -9.21493091e-01, -9.23424888e-01, -9.25333544e-01, -9.27219011e-01,\n",
       "       -9.29081240e-01, -9.30920186e-01, -9.32735801e-01, -9.34528041e-01,\n",
       "       -9.36296860e-01, -9.38042213e-01, -9.39764056e-01, -9.41462347e-01,\n",
       "       -9.43137042e-01, -9.44788099e-01, -9.46415477e-01, -9.48019134e-01,\n",
       "       -9.49599030e-01, -9.51155125e-01, -9.52687380e-01, -9.54195756e-01,\n",
       "       -9.55680216e-01, -9.57140720e-01, -9.58577234e-01, -9.59989720e-01,\n",
       "       -9.61378143e-01, -9.62742467e-01, -9.64082659e-01, -9.65398684e-01,\n",
       "       -9.66690508e-01, -9.67958100e-01, -9.69201427e-01, -9.70420457e-01,\n",
       "       -9.71615160e-01, -9.72785505e-01, -9.73931463e-01, -9.75053004e-01,\n",
       "       -9.76150100e-01, -9.77222723e-01, -9.78270846e-01, -9.79294442e-01,\n",
       "       -9.80293485e-01, -9.81267950e-01, -9.82217812e-01, -9.83143045e-01,\n",
       "       -9.84043628e-01, -9.84919536e-01, -9.85770748e-01, -9.86597241e-01,\n",
       "       -9.87398995e-01, -9.88175988e-01, -9.88928201e-01, -9.89655614e-01,\n",
       "       -9.90358208e-01, -9.91035966e-01, -9.91688870e-01, -9.92316903e-01,\n",
       "       -9.92920048e-01, -9.93498290e-01, -9.94051614e-01, -9.94580005e-01,\n",
       "       -9.95083450e-01, -9.95561935e-01, -9.96015447e-01, -9.96443975e-01,\n",
       "       -9.96847507e-01, -9.97226032e-01, -9.97579540e-01, -9.97908022e-01,\n",
       "       -9.98211468e-01, -9.98489871e-01, -9.98743222e-01, -9.98971514e-01,\n",
       "       -9.99174741e-01, -9.99352897e-01, -9.99505977e-01, -9.99633976e-01,\n",
       "       -9.99736890e-01, -9.99814715e-01, -9.99867449e-01, -9.99895090e-01,\n",
       "       -9.99897635e-01, -9.99875085e-01, -9.99827438e-01, -9.99754694e-01,\n",
       "       -9.99656856e-01, -9.99533923e-01, -9.99385899e-01, -9.99212785e-01,\n",
       "       -9.99014586e-01, -9.98791304e-01, -9.98542946e-01, -9.98269515e-01,\n",
       "       -9.97971017e-01, -9.97647459e-01, -9.97298848e-01, -9.96925191e-01,\n",
       "       -9.96526497e-01, -9.96102774e-01, -9.95654031e-01, -9.95180280e-01,\n",
       "       -9.94681529e-01, -9.94157790e-01, -9.93609076e-01, -9.93035399e-01,\n",
       "       -9.92436771e-01, -9.91813206e-01, -9.91164718e-01, -9.90491323e-01,\n",
       "       -9.89793035e-01, -9.89069871e-01, -9.88321847e-01, -9.87548980e-01,\n",
       "       -9.86751289e-01, -9.85928791e-01, -9.85081506e-01, -9.84209453e-01,\n",
       "       -9.83312652e-01, -9.82391125e-01, -9.81444891e-01, -9.80473974e-01,\n",
       "       -9.79478396e-01, -9.78458180e-01, -9.77413350e-01, -9.76343930e-01,\n",
       "       -9.75249945e-01, -9.74131420e-01, -9.72988381e-01, -9.71820856e-01,\n",
       "       -9.70628871e-01, -9.69412454e-01, -9.68171633e-01, -9.66906438e-01,\n",
       "       -9.65616897e-01, -9.64303042e-01, -9.62964902e-01, -9.61602509e-01,\n",
       "       -9.60215895e-01, -9.58805091e-01, -9.57370132e-01, -9.55911050e-01,\n",
       "       -9.54427880e-01, -9.52920656e-01, -9.51389413e-01, -9.49834188e-01,\n",
       "       -9.48255016e-01, -9.46651935e-01, -9.45024981e-01, -9.43374193e-01,\n",
       "       -9.41699609e-01, -9.40001269e-01, -9.38279212e-01, -9.36533478e-01,\n",
       "       -9.34764108e-01, -9.32971144e-01, -9.31154626e-01, -9.29314599e-01,\n",
       "       -9.27451103e-01, -9.25564183e-01, -9.23653883e-01, -9.21720247e-01,\n",
       "       -9.19763321e-01, -9.17783150e-01, -9.15779779e-01, -9.13753256e-01,\n",
       "       -9.11703628e-01, -9.09630943e-01, -9.07535248e-01, -9.05416593e-01,\n",
       "       -9.03275026e-01, -9.01110597e-01, -8.98923357e-01, -8.96713357e-01,\n",
       "       -8.94480647e-01, -8.92225280e-01, -8.89947307e-01, -8.87646782e-01,\n",
       "       -8.85323758e-01, -8.82978288e-01, -8.80610427e-01, -8.78220230e-01,\n",
       "       -8.75807751e-01, -8.73373048e-01, -8.70916175e-01, -8.68437190e-01,\n",
       "       -8.65936149e-01, -8.63413111e-01, -8.60868134e-01, -8.58301275e-01,\n",
       "       -8.55712595e-01, -8.53102153e-01, -8.50470009e-01, -8.47816224e-01,\n",
       "       -8.45140858e-01, -8.42443972e-01, -8.39725629e-01, -8.36985891e-01,\n",
       "       -8.34224821e-01, -8.31442482e-01, -8.28638937e-01, -8.25814251e-01,\n",
       "       -8.22968488e-01, -8.20101714e-01, -8.17213993e-01, -8.14305391e-01,\n",
       "       -8.11375976e-01, -8.08425812e-01, -8.05454968e-01, -8.02463511e-01,\n",
       "       -7.99451510e-01, -7.96419031e-01, -7.93366145e-01, -7.90292919e-01,\n",
       "       -7.87199425e-01, -7.84085731e-01, -7.80951909e-01, -7.77798028e-01,\n",
       "       -7.74624161e-01, -7.71430378e-01, -7.68216752e-01, -7.64983354e-01,\n",
       "       -7.61730258e-01, -7.58457537e-01, -7.55165264e-01, -7.51853512e-01,\n",
       "       -7.48522356e-01, -7.45171871e-01, -7.41802131e-01, -7.38413211e-01,\n",
       "       -7.35005188e-01, -7.31578136e-01, -7.28132133e-01, -7.24667254e-01,\n",
       "       -7.21183577e-01, -7.17681180e-01, -7.14160138e-01, -7.10620532e-01,\n",
       "       -7.07062438e-01, -7.03485935e-01, -6.99891102e-01, -6.96278019e-01,\n",
       "       -6.92646764e-01, -6.88997418e-01, -6.85330060e-01, -6.81644771e-01,\n",
       "       -6.77941632e-01, -6.74220723e-01, -6.70482125e-01, -6.66725921e-01,\n",
       "       -6.62952192e-01, -6.59161020e-01, -6.55352486e-01, -6.51526675e-01,\n",
       "       -6.47683668e-01, -6.43823548e-01, -6.39946399e-01, -6.36052305e-01,\n",
       "       -6.32141348e-01, -6.28213614e-01, -6.24269186e-01, -6.20308149e-01,\n",
       "       -6.16330587e-01, -6.12336585e-01, -6.08326229e-01, -6.04299603e-01,\n",
       "       -6.00256794e-01, -5.96197886e-01, -5.92122966e-01, -5.88032120e-01,\n",
       "       -5.83925434e-01, -5.79802995e-01, -5.75664888e-01, -5.71511202e-01,\n",
       "       -5.67342022e-01, -5.63157436e-01, -5.58957530e-01, -5.54742394e-01,\n",
       "       -5.50512113e-01, -5.46266776e-01, -5.42006470e-01, -5.37731283e-01,\n",
       "       -5.33441304e-01, -5.29136620e-01, -5.24817320e-01, -5.20483492e-01,\n",
       "       -5.16135225e-01, -5.11772607e-01, -5.07395726e-01, -5.03004672e-01,\n",
       "       -4.98599533e-01, -4.94180398e-01, -4.89747356e-01, -4.85300497e-01,\n",
       "       -4.80839908e-01, -4.76365680e-01, -4.71877901e-01, -4.67376661e-01,\n",
       "       -4.62862048e-01, -4.58334153e-01, -4.53793063e-01, -4.49238870e-01,\n",
       "       -4.44671661e-01, -4.40091526e-01, -4.35498555e-01, -4.30892836e-01,\n",
       "       -4.26274460e-01, -4.21643514e-01, -4.17000089e-01, -4.12344274e-01,\n",
       "       -4.07676157e-01, -4.02995828e-01, -3.98303376e-01, -3.93598889e-01,\n",
       "       -3.88882457e-01, -3.84154169e-01, -3.79414113e-01, -3.74662377e-01,\n",
       "       -3.69899052e-01, -3.65124224e-01, -3.60337982e-01, -3.55540415e-01,\n",
       "       -3.50731610e-01, -3.45911656e-01, -3.41080640e-01, -3.36238651e-01,\n",
       "       -3.31385775e-01, -3.26522101e-01, -3.21647714e-01, -3.16762704e-01,\n",
       "       -3.11867155e-01, -3.06961156e-01, -3.02044793e-01, -2.97118151e-01,\n",
       "       -2.92181317e-01, -2.87234377e-01, -2.82277417e-01, -2.77310522e-01,\n",
       "       -2.72333777e-01, -2.67347268e-01, -2.62351078e-01, -2.57345293e-01,\n",
       "       -2.52329996e-01, -2.47305272e-01, -2.42271204e-01, -2.37227876e-01,\n",
       "       -2.32175370e-01, -2.27113769e-01, -2.22043156e-01, -2.16963613e-01,\n",
       "       -2.11875221e-01, -2.06778062e-01, -2.01672217e-01, -1.96557767e-01,\n",
       "       -1.91434792e-01, -1.86303372e-01, -1.81163586e-01, -1.76015514e-01,\n",
       "       -1.70859235e-01, -1.65694826e-01, -1.60522367e-01, -1.55341934e-01,\n",
       "       -1.50153604e-01, -1.44957455e-01, -1.39753562e-01, -1.34542001e-01,\n",
       "       -1.29322848e-01, -1.24096176e-01, -1.18862062e-01, -1.13620577e-01,\n",
       "       -1.08371796e-01, -1.03115791e-01, -9.78526353e-02, -9.25823994e-02,\n",
       "       -8.73051550e-02, -8.20209726e-02, -7.67299222e-02, -7.14320733e-02,\n",
       "       -6.61274948e-02, -6.08162548e-02, -5.54984211e-02, -5.01740608e-02,\n",
       "       -4.48432402e-02, -3.95060251e-02, -3.41624806e-02, -2.88126712e-02,\n",
       "       -2.34566608e-02, -1.80945124e-02, -1.27262885e-02, -7.35205079e-03,\n",
       "       -1.97186031e-03,  3.41422262e-03,  8.80613845e-03,  1.42038284e-02,\n",
       "        1.96072343e-02,  2.50162988e-02,  3.04309656e-02,  3.58511788e-02,\n",
       "        4.12768835e-02,  4.67080255e-02,  5.21445516e-02,  5.75864093e-02,\n",
       "        6.30335469e-02,  6.84859137e-02,  7.39434598e-02,  7.94061362e-02,\n",
       "        8.48738947e-02,  9.03466881e-02,  9.58244701e-02,  1.01307195e-01,\n",
       "        1.06794819e-01,  1.12287299e-01,  1.17784591e-01,  1.23286654e-01,\n",
       "        1.28793448e-01,  1.34304934e-01,  1.39821072e-01,  1.45341825e-01,\n",
       "        1.50867156e-01,  1.56397032e-01,  1.61931416e-01,  1.67470275e-01,\n",
       "        1.73013579e-01,  1.78561294e-01,  1.84113393e-01,  1.89669845e-01,\n",
       "        1.95230623e-01,  2.00795702e-01,  2.06365054e-01,  2.11938657e-01,\n",
       "        2.17516487e-01,  2.23098522e-01,  2.28684743e-01,  2.34275130e-01,\n",
       "        2.39869665e-01,  2.45468332e-01,  2.51071114e-01,  2.56677999e-01,\n",
       "        2.62288972e-01,  2.67904023e-01,  2.73523142e-01,  2.79146320e-01,\n",
       "        2.84773549e-01,  2.90404825e-01,  2.96040141e-01,  3.01679495e-01,\n",
       "        3.07322886e-01,  3.12970313e-01,  3.18621778e-01,  3.24277282e-01,\n",
       "        3.29936832e-01,  3.35600431e-01,  3.41268088e-01,  3.46939812e-01])"
      ]
     },
     "execution_count": 188,
     "metadata": {},
     "output_type": "execute_result"
    }
   ],
   "source": [
    "y_math = 1 + X_train@coeff\n",
    "y_math"
   ]
  },
  {
   "cell_type": "code",
   "execution_count": 189,
   "id": "8dbc41c7",
   "metadata": {},
   "outputs": [
    {
     "data": {
      "text/plain": [
       "[<matplotlib.lines.Line2D at 0x22add76f940>]"
      ]
     },
     "execution_count": 189,
     "metadata": {},
     "output_type": "execute_result"
    },
    {
     "data": {
      "image/png": "[encoded data removed]",
      "text/plain": [
       "<Figure size 640x480 with 1 Axes>"
      ]
     },
     "metadata": {},
     "output_type": "display_data"
    }
   ],
   "source": [
    "plt.plot(x_cos, y_math)\n",
    "plt.plot(x_cos, y_cos)"
   ]
  },
  {
   "cell_type": "code",
   "execution_count": 190,
   "id": "80a68208",
   "metadata": {},
   "outputs": [],
   "source": [
    "def cos_with_poly(x, order):\n",
    "    somme = 0\n",
    "    for i in range(order):\n",
    "        somme = np.add(((-1)**i)*x**(2*i)/np.math.factorial(2*i), somme)\n",
    "    return somme"
   ]
  },
  {
   "cell_type": "code",
   "execution_count": 191,
   "id": "97523d46",
   "metadata": {},
   "outputs": [
    {
     "data": {
      "text/plain": [
       "-0.41614683654756973"
      ]
     },
     "execution_count": 191,
     "metadata": {},
     "output_type": "execute_result"
    }
   ],
   "source": [
    "cos_with_poly(2, 10)"
   ]
  },
  {
   "cell_type": "code",
   "execution_count": 193,
   "id": "b1b172ec",
   "metadata": {},
   "outputs": [
    {
     "data": {
      "text/plain": [
       "[<matplotlib.lines.Line2D at 0x22add8a75e0>]"
      ]
     },
     "execution_count": 193,
     "metadata": {},
     "output_type": "execute_result"
    },
    {
     "data": {
      "image/png": "[encoded data removed]",
      "text/plain": [
       "<Figure size 640x480 with 1 Axes>"
      ]
     },
     "metadata": {},
     "output_type": "display_data"
    }
   ],
   "source": [
    "plt.plot(x_cos, cos_with_poly(x_cos, 15))\n",
    "plt.plot(x_cos, y_cos)"
   ]
  },
  {
   "cell_type": "code",
   "execution_count": null,
   "id": "fd04a459",
   "metadata": {},
   "outputs": [],
   "source": []
  }
 ],
 "metadata": {
  "kernelspec": {
   "display_name": "Python 3 (ipykernel)",
   "language": "python",
   "name": "python3"
  },
  "language_info": {
   "codemirror_mode": {
    "name": "ipython",
    "version": 3
   },
   "file_extension": ".py",
   "mimetype": "text/x-python",
   "name": "python",
   "nbconvert_exporter": "python",
   "pygments_lexer": "ipython3",
   "version": "3.9.6"
  }
 },
 "nbformat": 4,
 "nbformat_minor": 5
}
